{
 "cells": [
  {
   "cell_type": "markdown",
   "metadata": {},
   "source": [
    "## 2 1. Machine learning, deep learning and AI\n",
    "- Draw an illustration of how machine learning, deep learning and artificial intelligence relate to each other and explain it with your own words.\n",
    "\n",
    "Artificial Intelligence (AI) is the broad field of creating machines or systems that can perform tasks that typically require human intelligence. Machine Learning (ML) is a subset of AI that focuses on developing algorithms that allow computers to learn patterns and make predictions from data without being explicitly programmed.\n",
    "\n",
    "Deep Learning (DL) is a subset of machine learning that uses neural networks with many layers (deep neural networks) to learn representations of data. Deep learning is inspired by the structure and function of the human brain.\n",
    "\n",
    "Here's a simple illustration:\n",
    "\n",
    "\n",
    "       -Artificial Intelligence (AI)\n",
    "             -| \n",
    "             -|   \n",
    "      - Machine Learning (ML)\n",
    "             -|\n",
    "             -|   \n",
    "       -Deep Learning (DL)\n",
    "- Explanation:\n",
    "\n",
    "AI is the overarching field encompassing any technology that enables machines to mimic human intelligence.\n",
    "ML is a subset of AI, focusing on algorithms that learn from data to make predictions or decisions without explicit programming.\n",
    "DL is a subset of ML, specifically using neural networks with many layers to learn intricate patterns and representations from data.\n",
    "In summary, AI is the broader concept, ML is a technique within AI that enables machines to learn from data, and DL is a subset of ML that uses deep neural networks to achieve its goals."
   ]
  },
  {
   "cell_type": "markdown",
   "metadata": {},
   "source": [
    "## 2 Regression and classification\n",
    "\n",
    "\n",
    "- The main difference between regression and classification lies in the type of output they produce.\n",
    "\n",
    "In regression, the output variable is continuous, meaning it can take any value within a range. Regression models are used to predict numerical values. For example, predicting house prices based on features such as size, number of bedrooms, and location is a regression problem.\n",
    "\n",
    "In classification, the output variable is categorical, meaning it falls into one of a finite set of categories or classes. Classification models are used to predict the category or class to which new data points belong. For example, classifying emails as spam or not spam based on their content is a classification problem.\n",
    "\n",
    "Example:\n",
    "- a) Problem that can be solved with regression:\n",
    "- Predicting the temperature based on factors like humidity, wind speed, and time of day.\n",
    "\n",
    "- b) Problem that can be solved with classification:\n",
    "- Classifying whether a tumor is malignant or benign based on its characteristics like size, shape, and texture."
   ]
  },
  {
   "cell_type": "markdown",
   "metadata": {},
   "source": [
    "## 3 Scaling Data"
   ]
  }
 ],
 "metadata": {
  "kernelspec": {
   "display_name": "venv",
   "language": "python",
   "name": "python3"
  },
  "language_info": {
   "codemirror_mode": {
    "name": "ipython",
    "version": 3
   },
   "file_extension": ".py",
   "mimetype": "text/x-python",
   "name": "python",
   "nbconvert_exporter": "python",
   "pygments_lexer": "ipython3",
   "version": "3.9.6"
  }
 },
 "nbformat": 4,
 "nbformat_minor": 2
}
